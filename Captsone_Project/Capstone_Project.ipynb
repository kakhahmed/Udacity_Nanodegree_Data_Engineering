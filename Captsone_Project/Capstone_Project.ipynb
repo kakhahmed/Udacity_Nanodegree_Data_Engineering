{
 "cells": [
  {
   "attachments": {},
   "cell_type": "markdown",
   "metadata": {
    "editable": true
   },
   "source": [
    "# Football player appearance data analysis\n",
    "### Data Engineering Capstone Project\n",
    "\n",
    "#### Project Summary\n",
    "Create a data warehouse analyzing football player appearances based on multiple source from `football_data_transfer_market` for European competitions. Either raw CSV datasets or a normalized JSON dataset.\n",
    "\n",
    "The project follows the follow steps:\n",
    "* Step 1: Scope the Project and Gather Data\n",
    "* Step 2: Explore and Assess the Data\n",
    "* Step 3: Define the Data Model\n",
    "* Step 4: Run ETL to Model the Data\n",
    "* Step 5: Complete Project Write Up"
   ]
  },
  {
   "cell_type": "code",
   "execution_count": 2,
   "metadata": {
    "editable": true
   },
   "outputs": [],
   "source": [
    "# Do all imports and installs here\n",
    "from pyspark.sql import SparkSession\n",
    "from pyspark.sql.functions import col\n",
    "import pandas as pd\n",
    "\n",
    "import etl"
   ]
  },
  {
   "attachments": {},
   "cell_type": "markdown",
   "metadata": {
    "editable": true
   },
   "source": [
    "# Step 1: Scope the Project and Gather Data"
   ]
  },
  {
   "attachments": {},
   "cell_type": "markdown",
   "metadata": {},
   "source": [
    "#### Scope\n",
    "\n",
    "Create analytics database for football player appearances in European competitions:\n",
    "\n",
    "- Use spark to load the raw datasets.\n",
    "- Explore the datasets for `player_appearances` and perform data cleaning.\n",
    "- Read and create dimension tables from `games`, `clubs`, `competitions`, `player_appearances` datasets.\n",
    "- Write fact and dimension tables to parquet files.\n",
    "- Apply data quality checks on all table and raise error if a check failed."
   ]
  },
  {
   "attachments": {},
   "cell_type": "markdown",
   "metadata": {},
   "source": [
    "## Gathering Data \n",
    "Reading data and describing it."
   ]
  },
  {
   "cell_type": "code",
   "execution_count": 3,
   "metadata": {
    "editable": true
   },
   "outputs": [
    {
     "name": "stdout",
     "output_type": "stream",
     "text": [
      "23/04/19 02:47:38 WARN Utils: Your hostname, exflqr43268 resolves to a loopback address: 127.0.1.1; using 192.168.0.215 instead (on interface wlp59s0)\n",
      "23/04/19 02:47:38 WARN Utils: Set SPARK_LOCAL_IP if you need to bind to another address\n"
     ]
    },
    {
     "name": "stderr",
     "output_type": "stream",
     "text": [
      "Setting default log level to \"WARN\".\n",
      "To adjust logging level use sc.setLogLevel(newLevel). For SparkR, use setLogLevel(newLevel).\n"
     ]
    },
    {
     "name": "stdout",
     "output_type": "stream",
     "text": [
      "23/04/19 02:47:39 WARN NativeCodeLoader: Unable to load native-hadoop library for your platform... using builtin-java classes where applicable\n"
     ]
    }
   ],
   "source": [
    "# Read in the data here\n",
    "\n",
    "# Create a SparkSession\n",
    "spark = SparkSession.builder \\\n",
    "    .appName(\"Read CSV/JSON\") \\\n",
    "    .master(\"local[*]\") \\\n",
    "    .getOrCreate()\n",
    "output_data = \"output_data\""
   ]
  },
  {
   "attachments": {},
   "cell_type": "markdown",
   "metadata": {},
   "source": [
    "### Player Appearances\n",
    "\n",
    "This dataset is created from two datasets on Kaggle `Football Data from Transfermarkt`. https://www.kaggle.com/datasets/davidcariboo/player-scores\n",
    "\n",
    "This JSON dataset consists of players information like names, birth, market value, game appearance, and some attributes. This dataset is written using `pyspark`, and it includes information from the two original datasets `players` and `player_appearances`."
   ]
  },
  {
   "cell_type": "code",
   "execution_count": 4,
   "metadata": {},
   "outputs": [
    {
     "name": "stderr",
     "output_type": "stream",
     "text": [
      "                                                                                \r"
     ]
    },
    {
     "name": "stdout",
     "output_type": "stream",
     "text": [
      "23/04/19 02:47:50 WARN package: Truncated the string representation of a plan since it was too large. This behavior can be adjusted by setting 'spark.sql.debug.maxToStringFields'.\n",
      "+--------------------+-------------+-------+-------------+-------+--------------+------------------------+----------------+----------------------+------------------------------------+-----------------+--------------------+--------------------+-----------+----------+-----+-------+-----+------------+---------------------------+--------------------+------------+-----------+-------------------+------+--------------+------------------+--------------+------------------+----------------------+---------+------------+------------------+----------+---------+--------------+-------------+--------------------+------------+\n",
      "|          agent_name|appearance_id|assists|city_of_birth|club_id|competition_id|contract_expiration_date|country_of_birth|country_of_citizenship|current_club_domestic_competition_id|current_club_name|                date|       date_of_birth|description|first_name| foot|game_id|goals|height_in_cm|highest_market_value_in_eur|           image_url|   last_name|last_season|market_value_in_eur|minute|minutes_played|              name|player_club_id|       player_code|player_current_club_id|player_id|player_in_id|       player_name|  position|red_cards|  sub_position|         type|                 url|yellow_cards|\n",
      "+--------------------+-------------+-------+-------------+-------+--------------+------------------------+----------------+----------------------+------------------------------------+-----------------+--------------------+--------------------+-----------+----------+-----+-------+-----+------------+---------------------------+--------------------+------------+-----------+-------------------+------+--------------+------------------+--------------+------------------+----------------------+---------+------------+------------------+----------+---------+--------------+-------------+--------------------+------------+\n",
      "|ASBW Sport Marketing|   2478702_10|      0|      Opole  |    398|           IT1|                    null|          Poland|               Germany|                                 IT1|        Lazio Rom|2014-11-22T00:00:...|1978-06-09T00:00:...|       null|  Miroslav|Right|2478702|    0|         184|                      3.0E7|https://img.a.tra...|       Klose|       2015|               null|    57|            57|    Miroslav Klose|           398|    miroslav-klose|                   398|       10|       47065|    Miroslav Klose|    Attack|        0|Centre-Forward|Substitutions|https://www.trans...|           0|\n",
      "|ASBW Sport Marketing|   2478733_10|      0|      Opole  |    398|           IT1|                    null|          Poland|               Germany|                                 IT1|        Lazio Rom|2014-12-13T00:00:...|1978-06-09T00:00:...|       null|  Miroslav|Right|2478733|    0|         184|                      3.0E7|https://img.a.tra...|       Klose|       2015|               null|  null|            14|    Miroslav Klose|           398|    miroslav-klose|                   398|       10|        null|    Miroslav Klose|    Attack|        0|Centre-Forward|         null|https://www.trans...|           0|\n",
      "|ASBW Sport Marketing|   2604064_10|      0|      Opole  |    398|           IT1|                    null|          Poland|               Germany|                                 IT1|        Lazio Rom|2015-10-28T00:00:...|1978-06-09T00:00:...|       null|  Miroslav|Right|2604064|    0|         184|                      3.0E7|https://img.a.tra...|       Klose|       2015|               null|  null|            10|    Miroslav Klose|           398|    miroslav-klose|                   398|       10|        null|    Miroslav Klose|    Attack|        0|Centre-Forward|         null|https://www.trans...|           0|\n",
      "|ASBW Sport Marketing|   2604218_10|      1|      Opole  |    398|           IT1|                    null|          Poland|               Germany|                                 IT1|        Lazio Rom|2016-02-11T00:00:...|1978-06-09T00:00:...|       null|  Miroslav|Right|2604218|    0|         184|                      3.0E7|https://img.a.tra...|       Klose|       2015|               null|  null|            10|    Miroslav Klose|           398|    miroslav-klose|                   398|       10|        null|    Miroslav Klose|    Attack|        0|Centre-Forward|         null|https://www.trans...|           0|\n",
      "|    Neubauer 13 GmbH|   2460696_26|      0|       Diez  |     16|            L1|                    null|         Germany|               Germany|                                  L1|Borussia Dortmund|2014-10-18T00:00:...|1980-08-06T00:00:...|       null|     Roman| Left|2460696|    0|         190|                  8000000.0|https://img.a.tra...|Weidenfeller|       2017|               null|  null|            90|Roman Weidenfeller|            16|roman-weidenfeller|                    16|       26|        null|Roman Weidenfeller|Goalkeeper|        0|          null|         null|https://www.trans...|           0|\n",
      "+--------------------+-------------+-------+-------------+-------+--------------+------------------------+----------------+----------------------+------------------------------------+-----------------+--------------------+--------------------+-----------+----------+-----+-------+-----+------------+---------------------------+--------------------+------------+-----------+-------------------+------+--------------+------------------+--------------+------------------+----------------------+---------+------------+------------------+----------+---------+--------------+-------------+--------------------+------------+\n",
      "only showing top 5 rows\n",
      "\n"
     ]
    }
   ],
   "source": [
    "# Save the data in JSON format\n",
    "players_df = spark.read.json(\"raw_data/players_appearances/*\")\n",
    "players_df.show(5)"
   ]
  },
  {
   "attachments": {},
   "cell_type": "markdown",
   "metadata": {},
   "source": [
    "### Games\n",
    "\n",
    "This dataset is from Kaggle `Football Data from Transfermarkt`. https://www.kaggle.com/datasets/davidcariboo/player-scores\n",
    "\n",
    "This provides "
   ]
  },
  {
   "cell_type": "code",
   "execution_count": 5,
   "metadata": {},
   "outputs": [
    {
     "name": "stderr",
     "output_type": "stream",
     "text": [
      "                                                                                \r"
     ]
    },
    {
     "name": "stdout",
     "output_type": "stream",
     "text": [
      "+-------+--------------+----------------+------+------------------+-------------------+------------+------------+---------------+---------------+-------------------+------------------+------------------+-----------------+-----------------+----------------------+----------------------+--------------------+----------+--------------------+--------------------+\n",
      "|game_id|competition_id|competition_type|season|             round|               date|home_club_id|away_club_id|home_club_goals|away_club_goals|          aggregate|home_club_position|away_club_position|   club_home_name|   club_away_name|home_club_manager_name|away_club_manager_name|             stadium|attendance|             referee|                 url|\n",
      "+-------+--------------+----------------+------+------------------+-------------------+------------+------------+---------------+---------------+-------------------+------------------+------------------+-----------------+-----------------+----------------------+----------------------+--------------------+----------+--------------------+--------------------+\n",
      "|2229332|           DFL|           other|  2012|             Final|2012-08-12 00:00:00|          27|          16|              2|              1|2023-04-19 02:01:00|                -1|                -1|Fc Bayern Munchen|Borussia Dortmund|         Jupp Heynckes|          Jürgen Klopp|       Allianz Arena|     69000|      Michael Weiner|https://www.trans...|\n",
      "|2244388|           SUC|           other|  2012|     final 1st leg|2012-08-22 00:00:00|         131|         418|              3|              2|2023-04-19 03:02:00|                -1|                -1|     Fc Barcelona|      Real Madrid|         Tito Vilanova|         José Mourinho|    Spotify Camp Nou|     91728|   Carlos Clos Gómez|https://www.trans...|\n",
      "|2269557|           CDR|    domestic_cup|  2012| 4th round 2nd leg|2012-11-28 00:00:00|        3709|        4032|              0|              0|2023-04-19 00:00:00|                -1|                -1|        Fc Getafe|             null|           Luis García|      Claudio Barragán|Coliseum Alfonso ...|      2000|Pedro Jesús Pérez...|https://www.trans...|\n",
      "|2254432|           CDR|    domestic_cup|  2012|First Round Replay|2012-08-30 00:00:00|       21322|        7077|              1|              0|2023-04-19 01:00:00|                -1|                -1|             null|             null|    Pedro Buenaventura|                  Pato|           El Palmar|         0|Andrés Manuel Ceb...|https://www.trans...|\n",
      "|2221759|           DFB|    domestic_cup|  2012|       First Round|2012-08-20 00:00:00|         109|          27|              0|              4|2023-04-19 00:04:00|                -1|                -1|             null|Fc Bayern Munchen|      Oscar Corrochano|         Jupp Heynckes|         Jahnstadion|     12500|      Guido Winkmann|https://www.trans...|\n",
      "+-------+--------------+----------------+------+------------------+-------------------+------------+------------+---------------+---------------+-------------------+------------------+------------------+-----------------+-----------------+----------------------+----------------------+--------------------+----------+--------------------+--------------------+\n",
      "only showing top 5 rows\n",
      "\n"
     ]
    }
   ],
   "source": [
    "games_df = etl.read_csv(\"football_data_transfer_market/games.csv\", spark)\n",
    "games_df.show(5)"
   ]
  },
  {
   "attachments": {},
   "cell_type": "markdown",
   "metadata": {},
   "source": [
    "### Clubs\n",
    "\n",
    "This dataset is from Kaggle `Football Data from Transfermarkt`. https://www.kaggle.com/datasets/davidcariboo/player-scores"
   ]
  },
  {
   "cell_type": "code",
   "execution_count": 6,
   "metadata": {},
   "outputs": [
    {
     "name": "stdout",
     "output_type": "stream",
     "text": [
      "+-------+------------------+------------------+-----------------------+------------------+----------+-----------+-----------------+---------------------+---------------------+--------------------+-------------+-------------------+----------------+--------------------+\n",
      "|club_id|         club_code|              name|domestic_competition_id|total_market_value|squad_size|average_age|foreigners_number|foreigners_percentage|national_team_players|        stadium_name|stadium_seats|net_transfer_record|      coach_name|                 url|\n",
      "+-------+------------------+------------------+-----------------------+------------------+----------+-----------+-----------------+---------------------+---------------------+--------------------+-------------+-------------------+----------------+--------------------+\n",
      "|   1032|        fc-reading|        Fc Reading|                    GB1|             33.66|        26|       25.9|               12|                 46.2|                    6|Select Car Leasin...|        24161|            +£8.37m| Brian McDermott|https://www.trans...|\n",
      "|   2323|          orduspor|          Orduspor|                    TR1|              null|         0|       null|                0|                 null|                    0|    19 Eylül Stadyum|        11024|                +-0|    Héctor Cúper|https://www.trans...|\n",
      "|   1387|    acn-siena-1904|    Acn Siena 1904|                    IT1|              4.32|        30|       26.2|                6|                 20.0|                    2|     Artemio Franchi|        15373|             £-6Th.|     Serse Cosmi|https://www.trans...|\n",
      "|   3592|kryvbas-kryvyi-rig|Kryvbas Kryvyi Rig|                   UKR1|              2.95|        24|       24.5|                2|                  8.3|                    0|   Shakhty Zhovtneva|         2500|           £-270Th.|      Oleg Taran|https://www.trans...|\n",
      "|   1071|    wigan-athletic|    Wigan Athletic|                    GB1|             12.38|        29|       26.5|               14|                 48.3|                    6|          DW Stadium|        25133|           £-140Th.|Roberto Martínez|https://www.trans...|\n",
      "+-------+------------------+------------------+-----------------------+------------------+----------+-----------+-----------------+---------------------+---------------------+--------------------+-------------+-------------------+----------------+--------------------+\n",
      "only showing top 5 rows\n",
      "\n"
     ]
    }
   ],
   "source": [
    "clubs_df = etl.read_csv(\"football_data_transfer_market/clubs.csv\", spark)\n",
    "clubs_df.show(5)"
   ]
  },
  {
   "attachments": {},
   "cell_type": "markdown",
   "metadata": {},
   "source": [
    "### Competitions\n",
    "\n",
    "This dataset is from Kaggle `Football Data from Transfermarkt`. https://www.kaggle.com/datasets/davidcariboo/player-scores"
   ]
  },
  {
   "cell_type": "code",
   "execution_count": 7,
   "metadata": {},
   "outputs": [
    {
     "name": "stdout",
     "output_type": "stream",
     "text": [
      "+--------------+----------------+---------------+---------------+------------------+----------+------------+----------------+-----------------+--------------------+-------------+--------------------+\n",
      "|competition_id|competition_code|           name|           type|          sub_type|country_id|country_name|country_latitude|country_longitude|domestic_league_code|confederation|                 url|\n",
      "+--------------+----------------+---------------+---------------+------------------+----------+------------+----------------+-----------------+--------------------+-------------+--------------------+\n",
      "|            L1|      bundesliga|     Bundesliga|domestic_league|        first_tier|        40|     Germany|      51.1638175|       10.4478313|                  L1|       europa|https://www.trans...|\n",
      "|           DFB|       dfb-pokal|      Dfb Pokal|   domestic_cup|      domestic_cup|        40|     Germany|      51.1638175|       10.4478313|                  L1|       europa|https://www.trans...|\n",
      "|           DFL|    dfl-supercup|   Dfl Supercup|          other|domestic_super_cup|        40|     Germany|      51.1638175|       10.4478313|                  L1|       europa|https://www.trans...|\n",
      "|           NL1|      eredivisie|     Eredivisie|domestic_league|        first_tier|       122| Netherlands|      52.2434979|        5.6343227|                 NL1|       europa|https://www.trans...|\n",
      "|           NLP| toto-knvb-beker|Toto Knvb Beker|   domestic_cup|      domestic_cup|       122| Netherlands|      52.2434979|        5.6343227|                 NL1|       europa|https://www.trans...|\n",
      "+--------------+----------------+---------------+---------------+------------------+----------+------------+----------------+-----------------+--------------------+-------------+--------------------+\n",
      "only showing top 5 rows\n",
      "\n"
     ]
    }
   ],
   "source": [
    "competitions_df = etl.read_csv(\"football_data_transfer_market/competitions.csv\", spark)\n",
    "competitions_df.show(5)"
   ]
  },
  {
   "cell_type": "code",
   "execution_count": 8,
   "metadata": {},
   "outputs": [
    {
     "name": "stderr",
     "output_type": "stream",
     "text": [
      "                                                                                \r"
     ]
    },
    {
     "name": "stdout",
     "output_type": "stream",
     "text": [
      "Number of `player_appearances` JSON rows: 1,079,339\n",
      "Number of rows from CSV data sources: 61,641\n"
     ]
    }
   ],
   "source": [
    "print(f\"Number of `player_appearances` JSON rows: {players_df.count():,}\")\n",
    "print(f\"Number of rows from CSV data sources: {games_df.count()+clubs_df.count()+competitions_df.count():,}\")"
   ]
  },
  {
   "attachments": {},
   "cell_type": "markdown",
   "metadata": {
    "editable": true
   },
   "source": [
    "### Step 2: Explore and Assess the Data\n",
    "#### Explore the Data \n",
    "Identify data quality issues, like missing values, duplicate data, etc."
   ]
  },
  {
   "cell_type": "code",
   "execution_count": 9,
   "metadata": {},
   "outputs": [
    {
     "name": "stderr",
     "output_type": "stream",
     "text": [
      "                                                                                \r"
     ]
    },
    {
     "data": {
      "image/png": "[encoded data removed]",
      "text/plain": [
       "<Figure size 640x480 with 1 Axes>"
      ]
     },
     "metadata": {},
     "output_type": "display_data"
    }
   ],
   "source": [
    "etl.inspect_data(players_df, perc=10, preview=True)"
   ]
  },
  {
   "attachments": {},
   "cell_type": "markdown",
   "metadata": {},
   "source": [
    "The graph shows the columns with more than 10% missing values. `description` has around 95% missing values, next are `minute`, `player_in_id`, and `type` with around 82% missing values. There are some missing values for columns like `appearance_id` and `competition_id` which is missing for the plot as it has less than 10% of missing values."
   ]
  },
  {
   "cell_type": "code",
   "execution_count": 10,
   "metadata": {},
   "outputs": [
    {
     "name": "stdout",
     "output_type": "stream",
     "text": [
      "+---------+-------------+----------+-------------+-------+\n",
      "|player_id|         name|first_name|    last_name|club_id|\n",
      "+---------+-------------+----------+-------------+-------+\n",
      "|   148455|Mohamed Salah|      null|Mohamed Salah|     31|\n",
      "|   148455|Mohamed Salah|      null|Mohamed Salah|     31|\n",
      "|   148455|Mohamed Salah|      null|Mohamed Salah|     31|\n",
      "|   148455|Mohamed Salah|      null|Mohamed Salah|     31|\n",
      "|   148455|Mohamed Salah|      null|Mohamed Salah|     31|\n",
      "+---------+-------------+----------+-------------+-------+\n",
      "only showing top 5 rows\n",
      "\n"
     ]
    }
   ],
   "source": [
    "# While inspecting the data a deformity in column values was recognized.\n",
    "# As it can be seen in the shown table below the name was not added correctly for the `first_name` and `last_name` columns.\n",
    "\n",
    "players_df.select(\n",
    "    \"player_id\",\n",
    "    \"name\",\n",
    "    \"first_name\",\n",
    "    \"last_name\",\n",
    "    \"club_id\"\n",
    ").where(col(\"last_name\")==\"Mohamed Salah\").show(5)"
   ]
  },
  {
   "cell_type": "markdown",
   "metadata": {},
   "source": [
    "#### Cleaning Steps\n",
    "Document steps necessary to clean the data"
   ]
  },
  {
   "cell_type": "code",
   "execution_count": 11,
   "metadata": {
    "editable": true
   },
   "outputs": [
    {
     "name": "stdout",
     "output_type": "stream",
     "text": [
      "+---------+-------------+----------+---------+-------+\n",
      "|player_id|         name|first_name|last_name|club_id|\n",
      "+---------+-------------+----------+---------+-------+\n",
      "|   148455|Mohamed Salah|   Mohamed|    Salah|     31|\n",
      "|   148455|Mohamed Salah|   Mohamed|    Salah|     31|\n",
      "|   148455|Mohamed Salah|   Mohamed|    Salah|     31|\n",
      "|   148455|Mohamed Salah|   Mohamed|    Salah|     31|\n",
      "|   148455|Mohamed Salah|   Mohamed|    Salah|     31|\n",
      "+---------+-------------+----------+---------+-------+\n",
      "only showing top 5 rows\n",
      "\n"
     ]
    }
   ],
   "source": [
    "# Here we fix the namings by splitting the name to the first_name and last_name,\n",
    "# if one of them have null values.\n",
    "players_df = etl.fix_names(players_df)\n",
    "players_df.select(\n",
    "    \"player_id\",\n",
    "    \"name\",\n",
    "    \"first_name\",\n",
    "    \"last_name\",\n",
    "    \"club_id\"\n",
    ").where(col(\"last_name\")==\"Salah\").show(5)"
   ]
  },
  {
   "attachments": {},
   "cell_type": "markdown",
   "metadata": {
    "editable": true
   },
   "source": [
    "### Step 3: Define the Data Model\n",
    "#### 3.1 Conceptual Data Model\n",
    "Map out the conceptual data model and explain why you chose that model\n",
    "\n",
    "![Conceptual Data Model](data_model.png)"
   ]
  },
  {
   "attachments": {},
   "cell_type": "markdown",
   "metadata": {},
   "source": [
    "The fact table is made up from the JSON raw dataset `players_appearances`. This fact table consists of the appearance attributes for players in every minute of the game.\n",
    "\n",
    "The needed dimensions for this model are:\n",
    "- players: for details related to the player origin, position, and age.\n",
    "- games: for details related to the place of the game, managers, clubs, and goals.\n",
    "- competitions: to track the main competition for every game a table with the competitions details is needed.\n",
    "- countries: This table has only the countries with competitions included in our data model.\n",
    "- time: for a more detailed time attributes, this table splits the appearance dates into more dimensions of interest.\n",
    "\n",
    "All the dimensions tables are collected from CSV datasets from football_data_transfer_market original data. Except for players and time tables, which are similar to player_appearance table are collected from the JSON raw data files.\n",
    "\n",
    "All dimension table link to the fact `player_appearance` table through the date and different primary IDs in every dimension."
   ]
  },
  {
   "attachments": {},
   "cell_type": "markdown",
   "metadata": {},
   "source": [
    "#### 3.2 Mapping Out Data Pipelines\n",
    "List the steps necessary to pipeline the data into the chosen data model\n",
    "\n",
    "- Load the raw datasets.\n",
    "- Investigate the players_appearances raw dataset.\n",
    "- Applying some cleaning for the players_appearances raw dataset.\n",
    "- Create dimensions tables: [players, games, clubs, competitions, countries, time]\n",
    "- Create fact table: player_appearance.\n",
    "- Apply data quality checks over dimension and fact table."
   ]
  },
  {
   "cell_type": "code",
   "execution_count": 12,
   "metadata": {},
   "outputs": [
    {
     "name": "stderr",
     "output_type": "stream",
     "text": [
      "                                                                                \r"
     ]
    }
   ],
   "source": [
    "import etl\n",
    "time = etl.create_time_table(players_df, output_data)"
   ]
  },
  {
   "cell_type": "code",
   "execution_count": 13,
   "metadata": {},
   "outputs": [
    {
     "name": "stderr",
     "output_type": "stream",
     "text": [
      "[Stage 148:==================================================>    (12 + 1) / 13]\r"
     ]
    },
    {
     "name": "stdout",
     "output_type": "stream",
     "text": [
      "23/04/19 02:49:28 WARN MemoryManager: Total allocation exceeds 95.00% (1,020,054,720 bytes) of heap memory\n",
      "Scaling row group sizes to 95.00% for 8 writers\n",
      "23/04/19 02:49:28 WARN MemoryManager: Total allocation exceeds 95.00% (1,020,054,720 bytes) of heap memory\n",
      "Scaling row group sizes to 84.44% for 9 writers\n",
      "23/04/19 02:49:28 WARN MemoryManager: Total allocation exceeds 95.00% (1,020,054,720 bytes) of heap memory\n",
      "Scaling row group sizes to 76.00% for 10 writers\n",
      "23/04/19 02:49:28 WARN MemoryManager: Total allocation exceeds 95.00% (1,020,054,720 bytes) of heap memory\n",
      "Scaling row group sizes to 69.09% for 11 writers\n",
      "23/04/19 02:49:28 WARN MemoryManager: Total allocation exceeds 95.00% (1,020,054,720 bytes) of heap memory\n",
      "Scaling row group sizes to 63.33% for 12 writers\n",
      "23/04/19 02:49:28 WARN MemoryManager: Total allocation exceeds 95.00% (1,020,054,720 bytes) of heap memory\n",
      "Scaling row group sizes to 69.09% for 11 writers\n",
      "23/04/19 02:49:28 WARN MemoryManager: Total allocation exceeds 95.00% (1,020,054,720 bytes) of heap memory\n",
      "Scaling row group sizes to 76.00% for 10 writers\n",
      "23/04/19 02:49:28 WARN MemoryManager: Total allocation exceeds 95.00% (1,020,054,720 bytes) of heap memory\n",
      "Scaling row group sizes to 84.44% for 9 writers\n",
      "23/04/19 02:49:28 WARN MemoryManager: Total allocation exceeds 95.00% (1,020,054,720 bytes) of heap memory\n",
      "Scaling row group sizes to 95.00% for 8 writers\n"
     ]
    },
    {
     "name": "stderr",
     "output_type": "stream",
     "text": [
      "[Stage 150:>                                                      (0 + 12) / 12]\r"
     ]
    },
    {
     "name": "stdout",
     "output_type": "stream",
     "text": [
      "23/04/19 02:50:20 WARN MemoryManager: Total allocation exceeds 95.00% (1,020,054,720 bytes) of heap memory\n",
      "Scaling row group sizes to 95.00% for 8 writers\n",
      "23/04/19 02:50:20 WARN MemoryManager: Total allocation exceeds 95.00% (1,020,054,720 bytes) of heap memory\n",
      "Scaling row group sizes to 84.44% for 9 writers\n",
      "23/04/19 02:50:20 WARN MemoryManager: Total allocation exceeds 95.00% (1,020,054,720 bytes) of heap memory\n",
      "Scaling row group sizes to 95.00% for 8 writers\n",
      "23/04/19 02:50:20 WARN MemoryManager: Total allocation exceeds 95.00% (1,020,054,720 bytes) of heap memory\n",
      "Scaling row group sizes to 95.00% for 8 writers\n",
      "23/04/19 02:50:20 WARN MemoryManager: Total allocation exceeds 95.00% (1,020,054,720 bytes) of heap memory\n",
      "Scaling row group sizes to 84.44% for 9 writers\n",
      "23/04/19 02:50:20 WARN MemoryManager: Total allocation exceeds 95.00% (1,020,054,720 bytes) of heap memory\n",
      "Scaling row group sizes to 95.00% for 8 writers\n"
     ]
    },
    {
     "name": "stderr",
     "output_type": "stream",
     "text": [
      "[Stage 156:>                                                      (0 + 12) / 13]\r"
     ]
    },
    {
     "name": "stdout",
     "output_type": "stream",
     "text": [
      "23/04/19 02:55:41 WARN MemoryManager: Total allocation exceeds 95.00% (1,020,054,720 bytes) of heap memory\n",
      "Scaling row group sizes to 95.00% for 8 writers\n"
     ]
    },
    {
     "name": "stderr",
     "output_type": "stream",
     "text": [
      "[Stage 156:>                                                      (0 + 12) / 13]\r"
     ]
    },
    {
     "name": "stdout",
     "output_type": "stream",
     "text": [
      "23/04/19 02:59:25 WARN MemoryManager: Total allocation exceeds 95.00% (1,020,054,720 bytes) of heap memory\n",
      "Scaling row group sizes to 95.00% for 8 writers\n",
      "23/04/19 03:00:02 WARN MemoryManager: Total allocation exceeds 95.00% (1,020,054,720 bytes) of heap memory\n",
      "Scaling row group sizes to 95.00% for 8 writers\n"
     ]
    },
    {
     "name": "stderr",
     "output_type": "stream",
     "text": [
      "                                                                                \r"
     ]
    }
   ],
   "source": [
    "players = etl.create_players_table(players_df, output_data)\n",
    "time = etl.create_time_table(players_df, output_data)\n",
    "player_appearance = etl.create_player_appearance_table(players_df, output_data)\n",
    "games = etl.create_games_table(games_df, output_data)\n",
    "clubs = etl.create_clubs_table(clubs_df, output_data)\n",
    "competitions = etl.create_competitions_table(competitions_df, output_data)\n",
    "countries = etl.create_countries_table(competitions_df, output_data)"
   ]
  },
  {
   "cell_type": "markdown",
   "metadata": {
    "editable": true
   },
   "source": [
    "### Step 4: Run Pipelines to Model the Data \n",
    "#### 4.1 Create the data model\n",
    "Build the data pipelines to create the data model."
   ]
  },
  {
   "attachments": {},
   "cell_type": "markdown",
   "metadata": {},
   "source": [
    "- The pipeline can run by running etl.py. It should be possible to run it as a spark script using `spark-submit etl.py `"
   ]
  },
  {
   "attachments": {},
   "cell_type": "markdown",
   "metadata": {
    "editable": true
   },
   "source": [
    "#### 4.2 Data Quality Checks\n",
    " \n",
    "Run Quality Checks:\n",
    "\n",
    "1- Data availability by checking that all data frames exists.\n",
    "\n",
    "2- Table data completeness and no missing rows for any table. "
   ]
  },
  {
   "cell_type": "code",
   "execution_count": 14,
   "metadata": {},
   "outputs": [
    {
     "name": "stdout",
     "output_type": "stream",
     "text": [
      "Table players exists.\n"
     ]
    },
    {
     "name": "stderr",
     "output_type": "stream",
     "text": [
      "                                                                                \r"
     ]
    },
    {
     "name": "stdout",
     "output_type": "stream",
     "text": [
      "Table players has 27,456 rows.\n",
      "Table time exists.\n"
     ]
    },
    {
     "name": "stderr",
     "output_type": "stream",
     "text": [
      "                                                                                \r"
     ]
    },
    {
     "name": "stdout",
     "output_type": "stream",
     "text": [
      "Table time has 2,315 rows.\n",
      "Table games exists.\n",
      "Table games has 61,197 rows.\n",
      "Table clubs exists.\n",
      "Table clubs has 401 rows.\n",
      "Table competitions exists.\n",
      "Table competitions has 43 rows.\n",
      "Table countries exists.\n",
      "Table countries has 15 rows.\n",
      "Table player_appearance exists.\n"
     ]
    },
    {
     "name": "stderr",
     "output_type": "stream",
     "text": [
      "[Stage 205:==================================================>    (12 + 1) / 13]\r"
     ]
    },
    {
     "name": "stdout",
     "output_type": "stream",
     "text": [
      "Table player_appearance has 1,079,339 rows.\n"
     ]
    },
    {
     "name": "stderr",
     "output_type": "stream",
     "text": [
      "                                                                                \r"
     ]
    },
    {
     "data": {
      "text/plain": [
       "\"Data quality check passed for ['player_appearance']\""
      ]
     },
     "execution_count": 14,
     "metadata": {},
     "output_type": "execute_result"
    }
   ],
   "source": [
    "dimension_tables = {\n",
    "    \"players\": players,\n",
    "    \"time\": time,\n",
    "    \"games\": games,\n",
    "    \"clubs\": clubs,\n",
    "    \"competitions\": competitions,\n",
    "    \"countries\": countries,\n",
    "}\n",
    "etl.data_quality_check(dimension_tables)\n",
    "\n",
    "player_appearance = {\"player_appearance\": player_appearance}\n",
    "etl.data_quality_check(player_appearance)"
   ]
  },
  {
   "cell_type": "markdown",
   "metadata": {
    "editable": true
   },
   "source": [
    "#### 4.3 Data dictionary \n",
    "Create a data dictionary for your data model. For each field, provide a brief description of what the data is and where it came from. You can include the data dictionary in the notebook or in a separate file."
   ]
  },
  {
   "attachments": {},
   "cell_type": "markdown",
   "metadata": {},
   "source": [
    "Dimension `players` data dictionary:"
   ]
  },
  {
   "cell_type": "code",
   "execution_count": 15,
   "metadata": {},
   "outputs": [
    {
     "data": {
      "text/html": [
       "<div>\n",
       "<style scoped>\n",
       "    .dataframe tbody tr th:only-of-type {\n",
       "        vertical-align: middle;\n",
       "    }\n",
       "\n",
       "    .dataframe tbody tr th {\n",
       "        vertical-align: top;\n",
       "    }\n",
       "\n",
       "    .dataframe thead th {\n",
       "        text-align: right;\n",
       "    }\n",
       "</style>\n",
       "<table border=\"1\" class=\"dataframe\">\n",
       "  <thead>\n",
       "    <tr style=\"text-align: right;\">\n",
       "      <th></th>\n",
       "      <th>Column name</th>\n",
       "      <th>Type</th>\n",
       "      <th>Description</th>\n",
       "    </tr>\n",
       "  </thead>\n",
       "  <tbody>\n",
       "    <tr>\n",
       "      <th>0</th>\n",
       "      <td>player_id</td>\n",
       "      <td>LongType()</td>\n",
       "      <td>Football player unique ID</td>\n",
       "    </tr>\n",
       "    <tr>\n",
       "      <th>1</th>\n",
       "      <td>birth_date</td>\n",
       "      <td>StringType()</td>\n",
       "      <td>The date of player birth</td>\n",
       "    </tr>\n",
       "    <tr>\n",
       "      <th>2</th>\n",
       "      <td>birth_country</td>\n",
       "      <td>StringType()</td>\n",
       "      <td>The country of birth</td>\n",
       "    </tr>\n",
       "    <tr>\n",
       "      <th>3</th>\n",
       "      <td>citizenship</td>\n",
       "      <td>StringType()</td>\n",
       "      <td>The player's citizenship</td>\n",
       "    </tr>\n",
       "    <tr>\n",
       "      <th>4</th>\n",
       "      <td>first_name</td>\n",
       "      <td>StringType()</td>\n",
       "      <td>First Name</td>\n",
       "    </tr>\n",
       "    <tr>\n",
       "      <th>5</th>\n",
       "      <td>last_name</td>\n",
       "      <td>StringType()</td>\n",
       "      <td>Last Name</td>\n",
       "    </tr>\n",
       "    <tr>\n",
       "      <th>6</th>\n",
       "      <td>height</td>\n",
       "      <td>LongType()</td>\n",
       "      <td>Height in CM</td>\n",
       "    </tr>\n",
       "    <tr>\n",
       "      <th>7</th>\n",
       "      <td>foot</td>\n",
       "      <td>StringType()</td>\n",
       "      <td>Preferred Foot</td>\n",
       "    </tr>\n",
       "    <tr>\n",
       "      <th>8</th>\n",
       "      <td>position</td>\n",
       "      <td>StringType()</td>\n",
       "      <td>The main playing position</td>\n",
       "    </tr>\n",
       "    <tr>\n",
       "      <th>9</th>\n",
       "      <td>sub_position</td>\n",
       "      <td>StringType()</td>\n",
       "      <td>The second playing position</td>\n",
       "    </tr>\n",
       "  </tbody>\n",
       "</table>\n",
       "</div>"
      ],
      "text/plain": [
       "     Column name          Type                  Description\n",
       "0      player_id    LongType()    Football player unique ID\n",
       "1     birth_date  StringType()     The date of player birth\n",
       "2  birth_country  StringType()         The country of birth\n",
       "3    citizenship  StringType()     The player's citizenship\n",
       "4     first_name  StringType()                   First Name\n",
       "5      last_name  StringType()                    Last Name\n",
       "6         height    LongType()                 Height in CM\n",
       "7           foot  StringType()               Preferred Foot\n",
       "8       position  StringType()    The main playing position\n",
       "9   sub_position  StringType()  The second playing position"
      ]
     },
     "execution_count": 15,
     "metadata": {},
     "output_type": "execute_result"
    }
   ],
   "source": [
    "# Players\n",
    "pd.DataFrame(\n",
    "        {\n",
    "            'Column name': ['player_id', 'birth_date', 'birth_country', 'citizenship', 'first_name', 'last_name', 'height', 'foot', 'position', 'sub_position'],\n",
    "            'Type': ['LongType()', 'StringType()', 'StringType()', 'StringType()', 'StringType()', 'StringType()', 'LongType()', 'StringType()', 'StringType()', 'StringType()'],\n",
    "            'Description': [\n",
    "                'Football player unique ID',\n",
    "                'The date of player birth',\n",
    "                'The country of birth',\n",
    "                'The player\\'s citizenship',\n",
    "                'First Name', 'Last Name', 'Height in CM',\n",
    "                'Preferred Foot', 'The main playing position',\n",
    "                'The second playing position']\n",
    "        })"
   ]
  },
  {
   "attachments": {},
   "cell_type": "markdown",
   "metadata": {},
   "source": [
    "Dimension `time` data dictionary:"
   ]
  },
  {
   "cell_type": "code",
   "execution_count": 16,
   "metadata": {},
   "outputs": [
    {
     "data": {
      "text/html": [
       "<div>\n",
       "<style scoped>\n",
       "    .dataframe tbody tr th:only-of-type {\n",
       "        vertical-align: middle;\n",
       "    }\n",
       "\n",
       "    .dataframe tbody tr th {\n",
       "        vertical-align: top;\n",
       "    }\n",
       "\n",
       "    .dataframe thead th {\n",
       "        text-align: right;\n",
       "    }\n",
       "</style>\n",
       "<table border=\"1\" class=\"dataframe\">\n",
       "  <thead>\n",
       "    <tr style=\"text-align: right;\">\n",
       "      <th></th>\n",
       "      <th>Column name</th>\n",
       "      <th>Type</th>\n",
       "      <th>Description</th>\n",
       "    </tr>\n",
       "  </thead>\n",
       "  <tbody>\n",
       "    <tr>\n",
       "      <th>0</th>\n",
       "      <td>date</td>\n",
       "      <td>StringType()</td>\n",
       "      <td>Timestamp for each recorded appearance</td>\n",
       "    </tr>\n",
       "    <tr>\n",
       "      <th>1</th>\n",
       "      <td>hour</td>\n",
       "      <td>IntegerType()</td>\n",
       "      <td>Appearance in hours</td>\n",
       "    </tr>\n",
       "    <tr>\n",
       "      <th>2</th>\n",
       "      <td>day</td>\n",
       "      <td>IntegerType()</td>\n",
       "      <td>Appearances in days</td>\n",
       "    </tr>\n",
       "    <tr>\n",
       "      <th>3</th>\n",
       "      <td>week</td>\n",
       "      <td>IntegerType()</td>\n",
       "      <td>Appearances in weeks</td>\n",
       "    </tr>\n",
       "    <tr>\n",
       "      <th>4</th>\n",
       "      <td>month</td>\n",
       "      <td>IntegerType()</td>\n",
       "      <td>Appearances in month</td>\n",
       "    </tr>\n",
       "    <tr>\n",
       "      <th>5</th>\n",
       "      <td>year</td>\n",
       "      <td>IntegerType()</td>\n",
       "      <td>Appearances in year</td>\n",
       "    </tr>\n",
       "    <tr>\n",
       "      <th>6</th>\n",
       "      <td>weekday</td>\n",
       "      <td>IntegerType()</td>\n",
       "      <td>Appearances in weekday</td>\n",
       "    </tr>\n",
       "  </tbody>\n",
       "</table>\n",
       "</div>"
      ],
      "text/plain": [
       "  Column name           Type                             Description\n",
       "0        date   StringType()  Timestamp for each recorded appearance\n",
       "1        hour  IntegerType()                     Appearance in hours\n",
       "2         day  IntegerType()                     Appearances in days\n",
       "3        week  IntegerType()                    Appearances in weeks\n",
       "4       month  IntegerType()                    Appearances in month\n",
       "5        year  IntegerType()                     Appearances in year\n",
       "6     weekday  IntegerType()                  Appearances in weekday"
      ]
     },
     "execution_count": 16,
     "metadata": {},
     "output_type": "execute_result"
    }
   ],
   "source": [
    "# Players\n",
    "pd.DataFrame(\n",
    "        {\n",
    "            'Column name': [\n",
    "                'date', 'hour', 'day', 'week', 'month', 'year', 'weekday'],\n",
    "            'Type': [\n",
    "                'StringType()', 'IntegerType()', 'IntegerType()', \n",
    "                'IntegerType()', 'IntegerType()', 'IntegerType()', 'IntegerType()'],\n",
    "            'Description': [\n",
    "                'Timestamp for each recorded appearance',\n",
    "                'Appearance in hours',\n",
    "                'Appearances in days',\n",
    "                'Appearances in weeks',\n",
    "                'Appearances in month',\n",
    "                'Appearances in year',\n",
    "                'Appearances in weekday',\n",
    "                ]\n",
    "        })"
   ]
  },
  {
   "attachments": {},
   "cell_type": "markdown",
   "metadata": {},
   "source": [
    "Dimension `Games` data dictionary:"
   ]
  },
  {
   "cell_type": "code",
   "execution_count": 17,
   "metadata": {},
   "outputs": [
    {
     "data": {
      "text/html": [
       "<div>\n",
       "<style scoped>\n",
       "    .dataframe tbody tr th:only-of-type {\n",
       "        vertical-align: middle;\n",
       "    }\n",
       "\n",
       "    .dataframe tbody tr th {\n",
       "        vertical-align: top;\n",
       "    }\n",
       "\n",
       "    .dataframe thead th {\n",
       "        text-align: right;\n",
       "    }\n",
       "</style>\n",
       "<table border=\"1\" class=\"dataframe\">\n",
       "  <thead>\n",
       "    <tr style=\"text-align: right;\">\n",
       "      <th></th>\n",
       "      <th>Column name</th>\n",
       "      <th>Type</th>\n",
       "      <th>Description</th>\n",
       "    </tr>\n",
       "  </thead>\n",
       "  <tbody>\n",
       "    <tr>\n",
       "      <th>0</th>\n",
       "      <td>game_id</td>\n",
       "      <td>IntegerType()</td>\n",
       "      <td>Game unique ID</td>\n",
       "    </tr>\n",
       "    <tr>\n",
       "      <th>1</th>\n",
       "      <td>home_club_id</td>\n",
       "      <td>IntegerType()</td>\n",
       "      <td>The playing home club unique ID</td>\n",
       "    </tr>\n",
       "    <tr>\n",
       "      <th>2</th>\n",
       "      <td>away_club_id</td>\n",
       "      <td>IntegerType()</td>\n",
       "      <td>The playing away club unique ID</td>\n",
       "    </tr>\n",
       "    <tr>\n",
       "      <th>3</th>\n",
       "      <td>home_club_goals</td>\n",
       "      <td>IntegerType()</td>\n",
       "      <td>Number of goals for the host club</td>\n",
       "    </tr>\n",
       "    <tr>\n",
       "      <th>4</th>\n",
       "      <td>away_club_goals</td>\n",
       "      <td>IntegerType()</td>\n",
       "      <td>Number of goals for the guest club</td>\n",
       "    </tr>\n",
       "    <tr>\n",
       "      <th>5</th>\n",
       "      <td>home_club_position</td>\n",
       "      <td>IntegerType()</td>\n",
       "      <td>The competition position for the host</td>\n",
       "    </tr>\n",
       "    <tr>\n",
       "      <th>6</th>\n",
       "      <td>away_club_position</td>\n",
       "      <td>IntegerType()</td>\n",
       "      <td>The competition position for the guest</td>\n",
       "    </tr>\n",
       "    <tr>\n",
       "      <th>7</th>\n",
       "      <td>home_club_manager</td>\n",
       "      <td>StringType()</td>\n",
       "      <td>Home club manager</td>\n",
       "    </tr>\n",
       "    <tr>\n",
       "      <th>8</th>\n",
       "      <td>away_club_manager</td>\n",
       "      <td>StringType()</td>\n",
       "      <td>Away club manager</td>\n",
       "    </tr>\n",
       "    <tr>\n",
       "      <th>9</th>\n",
       "      <td>stadium</td>\n",
       "      <td>StringType()</td>\n",
       "      <td>Stadium name</td>\n",
       "    </tr>\n",
       "    <tr>\n",
       "      <th>10</th>\n",
       "      <td>attendance</td>\n",
       "      <td>IntegerType()</td>\n",
       "      <td>Number of attendance</td>\n",
       "    </tr>\n",
       "    <tr>\n",
       "      <th>11</th>\n",
       "      <td>referee</td>\n",
       "      <td>StringType()</td>\n",
       "      <td>Game referee name.</td>\n",
       "    </tr>\n",
       "  </tbody>\n",
       "</table>\n",
       "</div>"
      ],
      "text/plain": [
       "           Column name           Type                             Description\n",
       "0              game_id  IntegerType()                          Game unique ID\n",
       "1         home_club_id  IntegerType()         The playing home club unique ID\n",
       "2         away_club_id  IntegerType()         The playing away club unique ID\n",
       "3      home_club_goals  IntegerType()       Number of goals for the host club\n",
       "4      away_club_goals  IntegerType()      Number of goals for the guest club\n",
       "5   home_club_position  IntegerType()   The competition position for the host\n",
       "6   away_club_position  IntegerType()  The competition position for the guest\n",
       "7    home_club_manager   StringType()                       Home club manager\n",
       "8    away_club_manager   StringType()                       Away club manager\n",
       "9              stadium   StringType()                            Stadium name\n",
       "10          attendance  IntegerType()                    Number of attendance\n",
       "11             referee   StringType()                      Game referee name."
      ]
     },
     "execution_count": 17,
     "metadata": {},
     "output_type": "execute_result"
    }
   ],
   "source": [
    "# Games\n",
    "pd.DataFrame(\n",
    "        {\n",
    "            'Column name': [\n",
    "                    'game_id', 'home_club_id', 'away_club_id',\n",
    "                    'home_club_goals', 'away_club_goals', 'home_club_position',\n",
    "                    'away_club_position', 'home_club_manager', 'away_club_manager',\n",
    "                    'stadium', 'attendance', 'referee'\n",
    "                    ],\n",
    "            'Type': [\n",
    "                    'IntegerType()', 'IntegerType()', 'IntegerType()',\n",
    "                    'IntegerType()', 'IntegerType()', 'IntegerType()',\n",
    "                    'IntegerType()', 'StringType()', 'StringType()',\n",
    "                    'StringType()', 'IntegerType()', 'StringType()'\n",
    "                    ],\n",
    "            'Description': [\n",
    "                'Game unique ID',\n",
    "                'The playing home club unique ID',\n",
    "                'The playing away club unique ID',\n",
    "                'Number of goals for the host club',\n",
    "                'Number of goals for the guest club',\n",
    "                'The competition position for the host',\n",
    "                'The competition position for the guest',\n",
    "                'Home club manager',\n",
    "                'Away club manager',\n",
    "                'Stadium name',\n",
    "                'Number of attendance',\n",
    "                'Game referee name.'\n",
    "                ]\n",
    "        }\n",
    ")"
   ]
  },
  {
   "attachments": {},
   "cell_type": "markdown",
   "metadata": {},
   "source": [
    "Dimension `Clubs` data dictionary:"
   ]
  },
  {
   "cell_type": "code",
   "execution_count": 18,
   "metadata": {},
   "outputs": [
    {
     "data": {
      "text/html": [
       "<div>\n",
       "<style scoped>\n",
       "    .dataframe tbody tr th:only-of-type {\n",
       "        vertical-align: middle;\n",
       "    }\n",
       "\n",
       "    .dataframe tbody tr th {\n",
       "        vertical-align: top;\n",
       "    }\n",
       "\n",
       "    .dataframe thead th {\n",
       "        text-align: right;\n",
       "    }\n",
       "</style>\n",
       "<table border=\"1\" class=\"dataframe\">\n",
       "  <thead>\n",
       "    <tr style=\"text-align: right;\">\n",
       "      <th></th>\n",
       "      <th>Column name</th>\n",
       "      <th>Type</th>\n",
       "      <th>Description</th>\n",
       "    </tr>\n",
       "  </thead>\n",
       "  <tbody>\n",
       "    <tr>\n",
       "      <th>0</th>\n",
       "      <td>club_id</td>\n",
       "      <td>IntegerType()</td>\n",
       "      <td>Club unique ID</td>\n",
       "    </tr>\n",
       "    <tr>\n",
       "      <th>1</th>\n",
       "      <td>name</td>\n",
       "      <td>StringType()</td>\n",
       "      <td>Club name</td>\n",
       "    </tr>\n",
       "    <tr>\n",
       "      <th>2</th>\n",
       "      <td>squad_size</td>\n",
       "      <td>IntegerType()</td>\n",
       "      <td>Football quad size</td>\n",
       "    </tr>\n",
       "    <tr>\n",
       "      <th>3</th>\n",
       "      <td>average_age</td>\n",
       "      <td>DoubleType()</td>\n",
       "      <td>Squad average age</td>\n",
       "    </tr>\n",
       "    <tr>\n",
       "      <th>4</th>\n",
       "      <td>foreigners_percentage</td>\n",
       "      <td>DoubleType()</td>\n",
       "      <td>Foreigners players percentage</td>\n",
       "    </tr>\n",
       "    <tr>\n",
       "      <th>5</th>\n",
       "      <td>national_team_players</td>\n",
       "      <td>IntegerType()</td>\n",
       "      <td>National team players percentage</td>\n",
       "    </tr>\n",
       "    <tr>\n",
       "      <th>6</th>\n",
       "      <td>stadium_name</td>\n",
       "      <td>StringType()</td>\n",
       "      <td>Stadium name</td>\n",
       "    </tr>\n",
       "    <tr>\n",
       "      <th>7</th>\n",
       "      <td>stadium_seats</td>\n",
       "      <td>IntegerType()</td>\n",
       "      <td>stadium available seats</td>\n",
       "    </tr>\n",
       "    <tr>\n",
       "      <th>8</th>\n",
       "      <td>coach_name</td>\n",
       "      <td>StringType()</td>\n",
       "      <td>Coach name</td>\n",
       "    </tr>\n",
       "  </tbody>\n",
       "</table>\n",
       "</div>"
      ],
      "text/plain": [
       "             Column name           Type                       Description\n",
       "0                club_id  IntegerType()                    Club unique ID\n",
       "1                   name   StringType()                         Club name\n",
       "2             squad_size  IntegerType()                Football quad size\n",
       "3            average_age   DoubleType()                 Squad average age\n",
       "4  foreigners_percentage   DoubleType()     Foreigners players percentage\n",
       "5  national_team_players  IntegerType()  National team players percentage\n",
       "6           stadium_name   StringType()                      Stadium name\n",
       "7          stadium_seats  IntegerType()           stadium available seats\n",
       "8             coach_name   StringType()                        Coach name"
      ]
     },
     "execution_count": 18,
     "metadata": {},
     "output_type": "execute_result"
    }
   ],
   "source": [
    "# Clubs\n",
    "pd.DataFrame(\n",
    "        {\n",
    "            'Column name': [\n",
    "                    'club_id', 'name', 'squad_size', 'average_age',\n",
    "                    'foreigners_percentage', 'national_team_players',\n",
    "                    'stadium_name', 'stadium_seats', 'coach_name'],\n",
    "            'Type': [\n",
    "                    'IntegerType()', 'StringType()', 'IntegerType()',\n",
    "                    'DoubleType()', 'DoubleType()', 'IntegerType()',\n",
    "                    'StringType()', 'IntegerType()', 'StringType()'\n",
    "                    ],\n",
    "            'Description': [\n",
    "                'Club unique ID',\n",
    "                'Club name',\n",
    "                'Football quad size',\n",
    "                'Squad average age',\n",
    "                'Foreigners players percentage',\n",
    "                'National team players percentage',\n",
    "                'Stadium name',\n",
    "                'stadium available seats',\n",
    "                'Coach name',\n",
    "                ]\n",
    "        }\n",
    ")"
   ]
  },
  {
   "attachments": {},
   "cell_type": "markdown",
   "metadata": {},
   "source": [
    "Dimension `Competitions` data dictionary:"
   ]
  },
  {
   "cell_type": "code",
   "execution_count": 19,
   "metadata": {},
   "outputs": [
    {
     "data": {
      "text/html": [
       "<div>\n",
       "<style scoped>\n",
       "    .dataframe tbody tr th:only-of-type {\n",
       "        vertical-align: middle;\n",
       "    }\n",
       "\n",
       "    .dataframe tbody tr th {\n",
       "        vertical-align: top;\n",
       "    }\n",
       "\n",
       "    .dataframe thead th {\n",
       "        text-align: right;\n",
       "    }\n",
       "</style>\n",
       "<table border=\"1\" class=\"dataframe\">\n",
       "  <thead>\n",
       "    <tr style=\"text-align: right;\">\n",
       "      <th></th>\n",
       "      <th>Column name</th>\n",
       "      <th>Type</th>\n",
       "      <th>Description</th>\n",
       "    </tr>\n",
       "  </thead>\n",
       "  <tbody>\n",
       "    <tr>\n",
       "      <th>0</th>\n",
       "      <td>competition_id</td>\n",
       "      <td>StringType()</td>\n",
       "      <td>Competition unique ID</td>\n",
       "    </tr>\n",
       "    <tr>\n",
       "      <th>1</th>\n",
       "      <td>name</td>\n",
       "      <td>StringType()</td>\n",
       "      <td>Competition name</td>\n",
       "    </tr>\n",
       "    <tr>\n",
       "      <th>2</th>\n",
       "      <td>type</td>\n",
       "      <td>StringType()</td>\n",
       "      <td>Competition type</td>\n",
       "    </tr>\n",
       "    <tr>\n",
       "      <th>3</th>\n",
       "      <td>country_id</td>\n",
       "      <td>IntegerType()</td>\n",
       "      <td>Country unique ID where the competition is played</td>\n",
       "    </tr>\n",
       "  </tbody>\n",
       "</table>\n",
       "</div>"
      ],
      "text/plain": [
       "      Column name           Type   \n",
       "0  competition_id   StringType()  \\\n",
       "1            name   StringType()   \n",
       "2            type   StringType()   \n",
       "3      country_id  IntegerType()   \n",
       "\n",
       "                                         Description  \n",
       "0                              Competition unique ID  \n",
       "1                                   Competition name  \n",
       "2                                   Competition type  \n",
       "3  Country unique ID where the competition is played  "
      ]
     },
     "execution_count": 19,
     "metadata": {},
     "output_type": "execute_result"
    }
   ],
   "source": [
    "# Competitions\n",
    "pd.DataFrame(\n",
    "        {\n",
    "            'Column name': ['competition_id', 'name', 'type', 'country_id'],\n",
    "            'Type': ['StringType()', 'StringType()', 'StringType()', 'IntegerType()'],\n",
    "            'Description': [\n",
    "                'Competition unique ID',\n",
    "                'Competition name',\n",
    "                'Competition type',\n",
    "                'Country unique ID where the competition is played',\n",
    "                ]\n",
    "        }\n",
    ")"
   ]
  },
  {
   "attachments": {},
   "cell_type": "markdown",
   "metadata": {},
   "source": [
    "Dimension `Countries` data dictionary:"
   ]
  },
  {
   "cell_type": "code",
   "execution_count": 20,
   "metadata": {},
   "outputs": [
    {
     "data": {
      "text/html": [
       "<div>\n",
       "<style scoped>\n",
       "    .dataframe tbody tr th:only-of-type {\n",
       "        vertical-align: middle;\n",
       "    }\n",
       "\n",
       "    .dataframe tbody tr th {\n",
       "        vertical-align: top;\n",
       "    }\n",
       "\n",
       "    .dataframe thead th {\n",
       "        text-align: right;\n",
       "    }\n",
       "</style>\n",
       "<table border=\"1\" class=\"dataframe\">\n",
       "  <thead>\n",
       "    <tr style=\"text-align: right;\">\n",
       "      <th></th>\n",
       "      <th>Column name</th>\n",
       "      <th>Type</th>\n",
       "      <th>Description</th>\n",
       "    </tr>\n",
       "  </thead>\n",
       "  <tbody>\n",
       "    <tr>\n",
       "      <th>0</th>\n",
       "      <td>country_id</td>\n",
       "      <td>IntegerType()</td>\n",
       "      <td>Country unique ID</td>\n",
       "    </tr>\n",
       "    <tr>\n",
       "      <th>1</th>\n",
       "      <td>country_name</td>\n",
       "      <td>StringType()</td>\n",
       "      <td>Country name</td>\n",
       "    </tr>\n",
       "    <tr>\n",
       "      <th>2</th>\n",
       "      <td>country_latitude</td>\n",
       "      <td>DoubleType()</td>\n",
       "      <td>Country latitude</td>\n",
       "    </tr>\n",
       "    <tr>\n",
       "      <th>3</th>\n",
       "      <td>country_longitude</td>\n",
       "      <td>DoubleType()</td>\n",
       "      <td>Country longitude</td>\n",
       "    </tr>\n",
       "  </tbody>\n",
       "</table>\n",
       "</div>"
      ],
      "text/plain": [
       "         Column name           Type        Description\n",
       "0         country_id  IntegerType()  Country unique ID\n",
       "1       country_name   StringType()       Country name\n",
       "2   country_latitude   DoubleType()   Country latitude\n",
       "3  country_longitude   DoubleType()  Country longitude"
      ]
     },
     "execution_count": 20,
     "metadata": {},
     "output_type": "execute_result"
    }
   ],
   "source": [
    "# Countries\n",
    "pd.DataFrame(\n",
    "        {\n",
    "            'Column name': ['country_id', 'country_name', 'country_latitude', 'country_longitude'],\n",
    "            'Type': ['IntegerType()', 'StringType()', 'DoubleType()', 'DoubleType()'],\n",
    "            'Description': [\n",
    "                'Country unique ID',\n",
    "                'Country name',\n",
    "                'Country latitude',\n",
    "                'Country longitude',\n",
    "                ]\n",
    "        }\n",
    ")"
   ]
  },
  {
   "attachments": {},
   "cell_type": "markdown",
   "metadata": {},
   "source": [
    "Fact `Player Appearance` data dictionary :"
   ]
  },
  {
   "cell_type": "code",
   "execution_count": 21,
   "metadata": {},
   "outputs": [
    {
     "data": {
      "text/html": [
       "<div>\n",
       "<style scoped>\n",
       "    .dataframe tbody tr th:only-of-type {\n",
       "        vertical-align: middle;\n",
       "    }\n",
       "\n",
       "    .dataframe tbody tr th {\n",
       "        vertical-align: top;\n",
       "    }\n",
       "\n",
       "    .dataframe thead th {\n",
       "        text-align: right;\n",
       "    }\n",
       "</style>\n",
       "<table border=\"1\" class=\"dataframe\">\n",
       "  <thead>\n",
       "    <tr style=\"text-align: right;\">\n",
       "      <th></th>\n",
       "      <th>Column name</th>\n",
       "      <th>Type</th>\n",
       "      <th>Description</th>\n",
       "    </tr>\n",
       "  </thead>\n",
       "  <tbody>\n",
       "    <tr>\n",
       "      <th>0</th>\n",
       "      <td>appearance_id</td>\n",
       "      <td>StringType()</td>\n",
       "      <td>Player appearance unique ID</td>\n",
       "    </tr>\n",
       "    <tr>\n",
       "      <th>1</th>\n",
       "      <td>player_id</td>\n",
       "      <td>LongType()</td>\n",
       "      <td>Player unique ID</td>\n",
       "    </tr>\n",
       "    <tr>\n",
       "      <th>2</th>\n",
       "      <td>competition_id</td>\n",
       "      <td>StringType()</td>\n",
       "      <td>Competition unique ID</td>\n",
       "    </tr>\n",
       "    <tr>\n",
       "      <th>3</th>\n",
       "      <td>game_id</td>\n",
       "      <td>LongType()</td>\n",
       "      <td>Game unique ID</td>\n",
       "    </tr>\n",
       "    <tr>\n",
       "      <th>4</th>\n",
       "      <td>club_id</td>\n",
       "      <td>LongType()</td>\n",
       "      <td>Club unique ID</td>\n",
       "    </tr>\n",
       "    <tr>\n",
       "      <th>5</th>\n",
       "      <td>yellow_cards</td>\n",
       "      <td>LongType()</td>\n",
       "      <td>Number of given yellow cards to the player</td>\n",
       "    </tr>\n",
       "    <tr>\n",
       "      <th>6</th>\n",
       "      <td>red_cards</td>\n",
       "      <td>LongType()</td>\n",
       "      <td>Number of given red cards to the player</td>\n",
       "    </tr>\n",
       "    <tr>\n",
       "      <th>7</th>\n",
       "      <td>minute</td>\n",
       "      <td>LongType()</td>\n",
       "      <td>The appearance minute in game</td>\n",
       "    </tr>\n",
       "    <tr>\n",
       "      <th>8</th>\n",
       "      <td>minutes_played</td>\n",
       "      <td>LongType()</td>\n",
       "      <td>Number of minutes played</td>\n",
       "    </tr>\n",
       "    <tr>\n",
       "      <th>9</th>\n",
       "      <td>goals</td>\n",
       "      <td>LongType()</td>\n",
       "      <td>Number of goals by the player</td>\n",
       "    </tr>\n",
       "    <tr>\n",
       "      <th>10</th>\n",
       "      <td>assists</td>\n",
       "      <td>LongType()</td>\n",
       "      <td>Number of assist by the player</td>\n",
       "    </tr>\n",
       "    <tr>\n",
       "      <th>11</th>\n",
       "      <td>date</td>\n",
       "      <td>StringType()</td>\n",
       "      <td>Timestamp for the appearance</td>\n",
       "    </tr>\n",
       "  </tbody>\n",
       "</table>\n",
       "</div>"
      ],
      "text/plain": [
       "       Column name          Type                                 Description\n",
       "0    appearance_id  StringType()                 Player appearance unique ID\n",
       "1        player_id    LongType()                            Player unique ID\n",
       "2   competition_id  StringType()                       Competition unique ID\n",
       "3          game_id    LongType()                              Game unique ID\n",
       "4          club_id    LongType()                              Club unique ID\n",
       "5     yellow_cards    LongType()  Number of given yellow cards to the player\n",
       "6        red_cards    LongType()     Number of given red cards to the player\n",
       "7           minute    LongType()               The appearance minute in game\n",
       "8   minutes_played    LongType()                    Number of minutes played\n",
       "9            goals    LongType()               Number of goals by the player\n",
       "10         assists    LongType()              Number of assist by the player\n",
       "11            date  StringType()                Timestamp for the appearance"
      ]
     },
     "execution_count": 21,
     "metadata": {},
     "output_type": "execute_result"
    }
   ],
   "source": [
    "# Player Appearance\n",
    "pd.DataFrame(\n",
    "        {\n",
    "            'Column name': [\n",
    "                    'appearance_id', 'player_id', 'competition_id',\n",
    "                    'game_id', 'club_id', 'yellow_cards', 'red_cards',\n",
    "                    'minute', 'minutes_played', 'goals', 'assists', 'date'\n",
    "                    ],\n",
    "            'Type': [\n",
    "                    'StringType()', 'LongType()', 'StringType()', 'LongType()',\n",
    "                    'LongType()', 'LongType()', 'LongType()', 'LongType()',\n",
    "                    'LongType()', 'LongType()', 'LongType()', 'StringType()'\n",
    "                    ],\n",
    "            'Description': [\n",
    "                    'Player appearance unique ID',\n",
    "                    'Player unique ID', 'Competition unique ID',\n",
    "                    'Game unique ID', 'Club unique ID',\n",
    "                    'Number of given yellow cards to the player',\n",
    "                    'Number of given red cards to the player',\n",
    "                    'The appearance minute in game',\n",
    "                    'Number of minutes played',\n",
    "                    'Number of goals by the player',\n",
    "                    'Number of assist by the player',\n",
    "                    'Timestamp for the appearance',\n",
    "                    ]\n",
    "        }\n",
    ")"
   ]
  },
  {
   "cell_type": "markdown",
   "metadata": {
    "editable": true
   },
   "source": [
    "#### Step 5: Complete Project Write Up\n",
    "* Clearly state the rationale for the choice of tools and technologies for the project.\n",
    "* Propose how often the data should be updated and why.\n",
    "* Write a description of how you would approach the problem differently under the following scenarios:\n",
    " * The data was increased by 100x.\n",
    " * The data populates a dashboard that must be updated on a daily basis by 7am every day.\n",
    " * The database needed to be accessed by 100+ people."
   ]
  },
  {
   "attachments": {},
   "cell_type": "markdown",
   "metadata": {},
   "source": [
    "* Choice of tools and technologies for the project:\n",
    "  - Dataset: The `football_data_transfer_market` dataset was chosen for its freshness, size, and source credibility.\n",
    "  - Spark: It was used for speed by performing in-memory computations, scalability when the data size increase we can increase number of used clusters, flexibility in python and task versatility with large datasets.\n",
    "\n",
    "* Propose how often the data should be updated and why.\n",
    "  - Main source of data is at [Kaggle](https://www.kaggle.com/datasets/davidcariboo/player-scores) is updated weekly. Hence, weekly update is proposed.\n",
    "\n",
    "* Write a description of how you would approach the problem differently under the following scenarios:\n",
    " * The data was increased by 100x.\n",
    "    - As we are already using spark, we are able to scale our pipeline by increasing the number of partitions and size of Spark cluster, optimize the data pipeline by tuning Spark configuration parameters, use distributed file system like Hadoop or Amazon S3 to distribute data across multiple nodes.\n",
    " * The data populates a dashboard that must be updated on a daily basis by 7am every day.\n",
    "    - Optimize data extraction.\n",
    "    - Use efficient data storage, The used parquet should already help in this as it can provide fast access to the data.\n",
    "    - Airflow can be very helpful in orchestrating and scheduling the data pipeline.\n",
    "    - Monitoring and alerting to identify issues and errors before they become critical. Tools like Nagios can help.\n",
    " * The database needed to be accessed by 100+ people.\n",
    "    - Make sure database can handle increased number of users and their queries by scaling up hardware resources.\n",
    "    - Consider using distributed architecture for example using distributed file system like Hadoop to handle large datasets and provide fault tolerance.\n",
    "    - Redshift can be good solution as it handle large amounts of data and provide fast query performance.\n",
    "    - Monitor and optimize the pipeline regularly using Apache Spark monitoring"
   ]
  }
 ],
 "metadata": {
  "kernelspec": {
   "display_name": "Python 3",
   "language": "python",
   "name": "python3"
  },
  "language_info": {
   "codemirror_mode": {
    "name": "ipython",
    "version": 3
   },
   "file_extension": ".py",
   "mimetype": "text/x-python",
   "name": "python",
   "nbconvert_exporter": "python",
   "pygments_lexer": "ipython3",
   "version": "3.9.12"
  }
 },
 "nbformat": 4,
 "nbformat_minor": 4
}
